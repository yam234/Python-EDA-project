{
  "cells": [
    {
      "cell_type": "markdown",
      "metadata": {
        "id": "rELrhXQ8ovRg"
      },
      "source": [
        "## Millionaire: Jewelry Purchase Record Analysis\n",
        "\n",
        " This dataset containing information about jewelry purchases. This analysis can provide valuable information about customer preferences, sales trends, and other relevant aspects of the jewelry business.\n",
        "\n",
        " The process begins by collecting relevant data from sales records. The collected data is then cleaned and prepared, ensuring that it is free from duplicates, inconsistencies, and missing values. Exploratory data analysis techniques are applied to understand the dataset's structure and uncover patterns or trends. Customer segmentation can be performed to identify different customer groups based on demographics, purchase behavior, or purchase history. Sales analysis helps identify popular products, peak buying seasons, and customer preferences, enabling businesses to optimize inventory management. Pricing analysis evaluates the relationship between price, sales volume, and customer behavior, aiding in pricing strategy optimization. Data visualization techniques are used to create visual representations of the analysis results, facilitating communication and pattern recognition. Finally, actionable recommendations are derived from the analysis findings, enabling businesses to improve sales, marketing, and overall performance in the jewelry industry.\n",
        "\n",
        " Dataset from https://www.kaggle.com/datasets/mkechinov/ecommerce-purchase-history-from-jewelry-store. This dataset contains 130K purchased jewelry products during 2-years time frame."
      ]
    },
    {
      "cell_type": "code",
      "execution_count": null,
      "metadata": {
        "id": "iHbKDVnXovRj"
      },
      "outputs": [],
      "source": [
        "# import libraries and plot style\n",
        "import pandas as pd\n",
        "import numpy as np\n",
        "import matplotlib.pyplot as plt\n",
        "import seaborn as sns\n",
        "import re\n",
        "import scipy.stats as stats\n",
        "from scipy.stats import norm\n",
        "\n",
        "%matplotlib inline"
      ]
    },
    {
      "cell_type": "code",
      "execution_count": null,
      "metadata": {
        "id": "3x4FEq5XovRk",
        "outputId": "c535c1ed-c8b7-4760-b9fa-58c6857c5ec3",
        "colab": {
          "base_uri": "https://localhost:8080/",
          "height": 370
        }
      },
      "outputs": [
        {
          "output_type": "error",
          "ename": "FileNotFoundError",
          "evalue": "[Errno 2] No such file or directory: 'jewelry(Worksheet).csv'",
          "traceback": [
            "\u001b[0;31m---------------------------------------------------------------------------\u001b[0m",
            "\u001b[0;31mFileNotFoundError\u001b[0m                         Traceback (most recent call last)",
            "\u001b[0;32m<ipython-input-6-f3008bf85d43>\u001b[0m in \u001b[0;36m<cell line: 0>\u001b[0;34m()\u001b[0m\n\u001b[1;32m      1\u001b[0m \u001b[0;31m# Import raw data\u001b[0m\u001b[0;34m\u001b[0m\u001b[0;34m\u001b[0m\u001b[0m\n\u001b[0;32m----> 2\u001b[0;31m \u001b[0mdf\u001b[0m \u001b[0;34m=\u001b[0m \u001b[0mpd\u001b[0m\u001b[0;34m.\u001b[0m\u001b[0mread_csv\u001b[0m\u001b[0;34m(\u001b[0m\u001b[0;34m\"jewelry(Worksheet).csv\"\u001b[0m\u001b[0;34m)\u001b[0m\u001b[0;34m\u001b[0m\u001b[0;34m\u001b[0m\u001b[0m\n\u001b[0m\u001b[1;32m      3\u001b[0m \u001b[0mdf\u001b[0m\u001b[0;34m.\u001b[0m\u001b[0mhead\u001b[0m\u001b[0;34m(\u001b[0m\u001b[0;36m3\u001b[0m\u001b[0;34m)\u001b[0m\u001b[0;34m\u001b[0m\u001b[0;34m\u001b[0m\u001b[0m\n",
            "\u001b[0;32m/usr/local/lib/python3.11/dist-packages/pandas/io/parsers/readers.py\u001b[0m in \u001b[0;36mread_csv\u001b[0;34m(filepath_or_buffer, sep, delimiter, header, names, index_col, usecols, dtype, engine, converters, true_values, false_values, skipinitialspace, skiprows, skipfooter, nrows, na_values, keep_default_na, na_filter, verbose, skip_blank_lines, parse_dates, infer_datetime_format, keep_date_col, date_parser, date_format, dayfirst, cache_dates, iterator, chunksize, compression, thousands, decimal, lineterminator, quotechar, quoting, doublequote, escapechar, comment, encoding, encoding_errors, dialect, on_bad_lines, delim_whitespace, low_memory, memory_map, float_precision, storage_options, dtype_backend)\u001b[0m\n\u001b[1;32m   1024\u001b[0m     \u001b[0mkwds\u001b[0m\u001b[0;34m.\u001b[0m\u001b[0mupdate\u001b[0m\u001b[0;34m(\u001b[0m\u001b[0mkwds_defaults\u001b[0m\u001b[0;34m)\u001b[0m\u001b[0;34m\u001b[0m\u001b[0;34m\u001b[0m\u001b[0m\n\u001b[1;32m   1025\u001b[0m \u001b[0;34m\u001b[0m\u001b[0m\n\u001b[0;32m-> 1026\u001b[0;31m     \u001b[0;32mreturn\u001b[0m \u001b[0m_read\u001b[0m\u001b[0;34m(\u001b[0m\u001b[0mfilepath_or_buffer\u001b[0m\u001b[0;34m,\u001b[0m \u001b[0mkwds\u001b[0m\u001b[0;34m)\u001b[0m\u001b[0;34m\u001b[0m\u001b[0;34m\u001b[0m\u001b[0m\n\u001b[0m\u001b[1;32m   1027\u001b[0m \u001b[0;34m\u001b[0m\u001b[0m\n\u001b[1;32m   1028\u001b[0m \u001b[0;34m\u001b[0m\u001b[0m\n",
            "\u001b[0;32m/usr/local/lib/python3.11/dist-packages/pandas/io/parsers/readers.py\u001b[0m in \u001b[0;36m_read\u001b[0;34m(filepath_or_buffer, kwds)\u001b[0m\n\u001b[1;32m    618\u001b[0m \u001b[0;34m\u001b[0m\u001b[0m\n\u001b[1;32m    619\u001b[0m     \u001b[0;31m# Create the parser.\u001b[0m\u001b[0;34m\u001b[0m\u001b[0;34m\u001b[0m\u001b[0m\n\u001b[0;32m--> 620\u001b[0;31m     \u001b[0mparser\u001b[0m \u001b[0;34m=\u001b[0m \u001b[0mTextFileReader\u001b[0m\u001b[0;34m(\u001b[0m\u001b[0mfilepath_or_buffer\u001b[0m\u001b[0;34m,\u001b[0m \u001b[0;34m**\u001b[0m\u001b[0mkwds\u001b[0m\u001b[0;34m)\u001b[0m\u001b[0;34m\u001b[0m\u001b[0;34m\u001b[0m\u001b[0m\n\u001b[0m\u001b[1;32m    621\u001b[0m \u001b[0;34m\u001b[0m\u001b[0m\n\u001b[1;32m    622\u001b[0m     \u001b[0;32mif\u001b[0m \u001b[0mchunksize\u001b[0m \u001b[0;32mor\u001b[0m \u001b[0miterator\u001b[0m\u001b[0;34m:\u001b[0m\u001b[0;34m\u001b[0m\u001b[0;34m\u001b[0m\u001b[0m\n",
            "\u001b[0;32m/usr/local/lib/python3.11/dist-packages/pandas/io/parsers/readers.py\u001b[0m in \u001b[0;36m__init__\u001b[0;34m(self, f, engine, **kwds)\u001b[0m\n\u001b[1;32m   1618\u001b[0m \u001b[0;34m\u001b[0m\u001b[0m\n\u001b[1;32m   1619\u001b[0m         \u001b[0mself\u001b[0m\u001b[0;34m.\u001b[0m\u001b[0mhandles\u001b[0m\u001b[0;34m:\u001b[0m \u001b[0mIOHandles\u001b[0m \u001b[0;34m|\u001b[0m \u001b[0;32mNone\u001b[0m \u001b[0;34m=\u001b[0m \u001b[0;32mNone\u001b[0m\u001b[0;34m\u001b[0m\u001b[0;34m\u001b[0m\u001b[0m\n\u001b[0;32m-> 1620\u001b[0;31m         \u001b[0mself\u001b[0m\u001b[0;34m.\u001b[0m\u001b[0m_engine\u001b[0m \u001b[0;34m=\u001b[0m \u001b[0mself\u001b[0m\u001b[0;34m.\u001b[0m\u001b[0m_make_engine\u001b[0m\u001b[0;34m(\u001b[0m\u001b[0mf\u001b[0m\u001b[0;34m,\u001b[0m \u001b[0mself\u001b[0m\u001b[0;34m.\u001b[0m\u001b[0mengine\u001b[0m\u001b[0;34m)\u001b[0m\u001b[0;34m\u001b[0m\u001b[0;34m\u001b[0m\u001b[0m\n\u001b[0m\u001b[1;32m   1621\u001b[0m \u001b[0;34m\u001b[0m\u001b[0m\n\u001b[1;32m   1622\u001b[0m     \u001b[0;32mdef\u001b[0m \u001b[0mclose\u001b[0m\u001b[0;34m(\u001b[0m\u001b[0mself\u001b[0m\u001b[0;34m)\u001b[0m \u001b[0;34m->\u001b[0m \u001b[0;32mNone\u001b[0m\u001b[0;34m:\u001b[0m\u001b[0;34m\u001b[0m\u001b[0;34m\u001b[0m\u001b[0m\n",
            "\u001b[0;32m/usr/local/lib/python3.11/dist-packages/pandas/io/parsers/readers.py\u001b[0m in \u001b[0;36m_make_engine\u001b[0;34m(self, f, engine)\u001b[0m\n\u001b[1;32m   1878\u001b[0m                 \u001b[0;32mif\u001b[0m \u001b[0;34m\"b\"\u001b[0m \u001b[0;32mnot\u001b[0m \u001b[0;32min\u001b[0m \u001b[0mmode\u001b[0m\u001b[0;34m:\u001b[0m\u001b[0;34m\u001b[0m\u001b[0;34m\u001b[0m\u001b[0m\n\u001b[1;32m   1879\u001b[0m                     \u001b[0mmode\u001b[0m \u001b[0;34m+=\u001b[0m \u001b[0;34m\"b\"\u001b[0m\u001b[0;34m\u001b[0m\u001b[0;34m\u001b[0m\u001b[0m\n\u001b[0;32m-> 1880\u001b[0;31m             self.handles = get_handle(\n\u001b[0m\u001b[1;32m   1881\u001b[0m                 \u001b[0mf\u001b[0m\u001b[0;34m,\u001b[0m\u001b[0;34m\u001b[0m\u001b[0;34m\u001b[0m\u001b[0m\n\u001b[1;32m   1882\u001b[0m                 \u001b[0mmode\u001b[0m\u001b[0;34m,\u001b[0m\u001b[0;34m\u001b[0m\u001b[0;34m\u001b[0m\u001b[0m\n",
            "\u001b[0;32m/usr/local/lib/python3.11/dist-packages/pandas/io/common.py\u001b[0m in \u001b[0;36mget_handle\u001b[0;34m(path_or_buf, mode, encoding, compression, memory_map, is_text, errors, storage_options)\u001b[0m\n\u001b[1;32m    871\u001b[0m         \u001b[0;32mif\u001b[0m \u001b[0mioargs\u001b[0m\u001b[0;34m.\u001b[0m\u001b[0mencoding\u001b[0m \u001b[0;32mand\u001b[0m \u001b[0;34m\"b\"\u001b[0m \u001b[0;32mnot\u001b[0m \u001b[0;32min\u001b[0m \u001b[0mioargs\u001b[0m\u001b[0;34m.\u001b[0m\u001b[0mmode\u001b[0m\u001b[0;34m:\u001b[0m\u001b[0;34m\u001b[0m\u001b[0;34m\u001b[0m\u001b[0m\n\u001b[1;32m    872\u001b[0m             \u001b[0;31m# Encoding\u001b[0m\u001b[0;34m\u001b[0m\u001b[0;34m\u001b[0m\u001b[0m\n\u001b[0;32m--> 873\u001b[0;31m             handle = open(\n\u001b[0m\u001b[1;32m    874\u001b[0m                 \u001b[0mhandle\u001b[0m\u001b[0;34m,\u001b[0m\u001b[0;34m\u001b[0m\u001b[0;34m\u001b[0m\u001b[0m\n\u001b[1;32m    875\u001b[0m                 \u001b[0mioargs\u001b[0m\u001b[0;34m.\u001b[0m\u001b[0mmode\u001b[0m\u001b[0;34m,\u001b[0m\u001b[0;34m\u001b[0m\u001b[0;34m\u001b[0m\u001b[0m\n",
            "\u001b[0;31mFileNotFoundError\u001b[0m: [Errno 2] No such file or directory: 'jewelry(Worksheet).csv'"
          ]
        }
      ],
      "source": [
        "# Import raw data\n",
        "df = pd.read_csv(\"jewelry(Worksheet).csv\")\n",
        "df.head(3)"
      ]
    },
    {
      "cell_type": "code",
      "source": [
        "from google.colab import drive\n",
        "drive.mount('/content/drive')"
      ],
      "metadata": {
        "id": "ipAA1TgKqgu3",
        "colab": {
          "base_uri": "https://localhost:8080/"
        },
        "outputId": "601bcd2e-a1ae-4768-abd6-94d5d037b000"
      },
      "execution_count": null,
      "outputs": [
        {
          "output_type": "stream",
          "name": "stdout",
          "text": [
            "Mounted at /content/drive\n"
          ]
        }
      ]
    },
    {
      "cell_type": "code",
      "execution_count": null,
      "metadata": {
        "id": "81hgbkksovRl",
        "outputId": "51527290-a94c-4bbf-aa9c-f5b41115ad55"
      },
      "outputs": [
        {
          "data": {
            "text/plain": [
              "Index(['order time', 'order id', 'Unnamed: 2', 'Unnamed: 3', 'Unnamed: 4',\n",
              "       'Unnamed: 5', 'Unnamed: 6', 'Unnamed: 7', 'Unnamed: 8', 'Unnamed: 9',\n",
              "       'Unnamed: 10', 'Unnamed: 11', 'Unnamed: 12'],\n",
              "      dtype='object')"
            ]
          },
          "execution_count": 29,
          "metadata": {},
          "output_type": "execute_result"
        }
      ],
      "source": [
        "df.columns"
      ]
    },
    {
      "cell_type": "code",
      "execution_count": null,
      "metadata": {
        "id": "-0dKnNzuovRm",
        "outputId": "d8416364-f4d7-4a8f-88b8-d6edf25b9edf"
      },
      "outputs": [
        {
          "data": {
            "text/html": [
              "<div>\n",
              "<style scoped>\n",
              "    .dataframe tbody tr th:only-of-type {\n",
              "        vertical-align: middle;\n",
              "    }\n",
              "\n",
              "    .dataframe tbody tr th {\n",
              "        vertical-align: top;\n",
              "    }\n",
              "\n",
              "    .dataframe thead th {\n",
              "        text-align: right;\n",
              "    }\n",
              "</style>\n",
              "<table border=\"1\" class=\"dataframe\">\n",
              "  <thead>\n",
              "    <tr style=\"text-align: right;\">\n",
              "      <th></th>\n",
              "      <th>DateTime</th>\n",
              "      <th>OrderID</th>\n",
              "      <th>ProductID</th>\n",
              "      <th>Quantity</th>\n",
              "      <th>CategoryID</th>\n",
              "      <th>CategoryAlias</th>\n",
              "      <th>BrandID</th>\n",
              "      <th>USDPrice</th>\n",
              "      <th>UserID</th>\n",
              "      <th>Gender</th>\n",
              "      <th>Color</th>\n",
              "      <th>Metal</th>\n",
              "      <th>Gem</th>\n",
              "    </tr>\n",
              "  </thead>\n",
              "  <tbody>\n",
              "    <tr>\n",
              "      <th>0</th>\n",
              "      <td>2019-12-12 11:10:22 UTC</td>\n",
              "      <td>2.197220e+18</td>\n",
              "      <td>1.886840e+18</td>\n",
              "      <td>1</td>\n",
              "      <td>1.806830e+18</td>\n",
              "      <td>jewelry.earring</td>\n",
              "      <td>NaN</td>\n",
              "      <td>34448.60</td>\n",
              "      <td>1.515920e+18</td>\n",
              "      <td>f</td>\n",
              "      <td>white</td>\n",
              "      <td>gold</td>\n",
              "      <td>diamond</td>\n",
              "    </tr>\n",
              "    <tr>\n",
              "      <th>1</th>\n",
              "      <td>2021-01-06 02:03:53 UTC</td>\n",
              "      <td>2.480330e+18</td>\n",
              "      <td>1.515970e+18</td>\n",
              "      <td>1</td>\n",
              "      <td>1.806830e+18</td>\n",
              "      <td>jewelry.ring</td>\n",
              "      <td>0.0</td>\n",
              "      <td>26424.52</td>\n",
              "      <td>1.515920e+18</td>\n",
              "      <td>NaN</td>\n",
              "      <td>white</td>\n",
              "      <td>gold</td>\n",
              "      <td>mix</td>\n",
              "    </tr>\n",
              "    <tr>\n",
              "      <th>2</th>\n",
              "      <td>2021-08-21 11:04:01 UTC</td>\n",
              "      <td>2.645130e+18</td>\n",
              "      <td>1.515970e+18</td>\n",
              "      <td>1</td>\n",
              "      <td>1.806830e+18</td>\n",
              "      <td>jewelry.ring</td>\n",
              "      <td>0.0</td>\n",
              "      <td>26424.52</td>\n",
              "      <td>1.515920e+18</td>\n",
              "      <td>NaN</td>\n",
              "      <td>white</td>\n",
              "      <td>gold</td>\n",
              "      <td>mix</td>\n",
              "    </tr>\n",
              "  </tbody>\n",
              "</table>\n",
              "</div>"
            ],
            "text/plain": [
              "                  DateTime       OrderID     ProductID  Quantity  \\\n",
              "0  2019-12-12 11:10:22 UTC  2.197220e+18  1.886840e+18         1   \n",
              "1  2021-01-06 02:03:53 UTC  2.480330e+18  1.515970e+18         1   \n",
              "2  2021-08-21 11:04:01 UTC  2.645130e+18  1.515970e+18         1   \n",
              "\n",
              "     CategoryID    CategoryAlias  BrandID  USDPrice        UserID Gender  \\\n",
              "0  1.806830e+18  jewelry.earring      NaN  34448.60  1.515920e+18      f   \n",
              "1  1.806830e+18     jewelry.ring      0.0  26424.52  1.515920e+18    NaN   \n",
              "2  1.806830e+18     jewelry.ring      0.0  26424.52  1.515920e+18    NaN   \n",
              "\n",
              "   Color Metal      Gem  \n",
              "0  white  gold  diamond  \n",
              "1  white  gold      mix  \n",
              "2  white  gold      mix  "
            ]
          },
          "execution_count": 30,
          "metadata": {},
          "output_type": "execute_result"
        }
      ],
      "source": [
        "# column titles were missing in the orginial file, therefore need to insert column names by ourselves.\n",
        "df.columns = [\"DateTime\",\"OrderID\", \"ProductID\", \"Quantity\", \"CategoryID\", \"CategoryAlias\", \"BrandID\", \"USDPrice\", \"UserID\", \"Gender\", \"Color\", \"Metal\", \"Gem\"]\n",
        "df.head(3)"
      ]
    },
    {
      "cell_type": "code",
      "execution_count": null,
      "metadata": {
        "id": "T6rtviplovRm",
        "outputId": "015b8f58-18f2-4f5d-ab70-4300c87e10c6"
      },
      "outputs": [
        {
          "data": {
            "text/plain": [
              "(95911, 13)"
            ]
          },
          "execution_count": 31,
          "metadata": {},
          "output_type": "execute_result"
        }
      ],
      "source": [
        "df.shape"
      ]
    },
    {
      "cell_type": "code",
      "execution_count": null,
      "metadata": {
        "id": "AI3J2N7vovRn",
        "outputId": "ea54c535-6225-4105-b259-6b574deb9680"
      },
      "outputs": [
        {
          "name": "stdout",
          "output_type": "stream",
          "text": [
            "<class 'pandas.core.frame.DataFrame'>\n",
            "RangeIndex: 95911 entries, 0 to 95910\n",
            "Data columns (total 13 columns):\n",
            " #   Column         Non-Null Count  Dtype  \n",
            "---  ------         --------------  -----  \n",
            " 0   DateTime       95911 non-null  object \n",
            " 1   OrderID        95911 non-null  float64\n",
            " 2   ProductID      95911 non-null  float64\n",
            " 3   Quantity       95911 non-null  int64  \n",
            " 4   CategoryID     90559 non-null  float64\n",
            " 5   CategoryAlias  85978 non-null  object \n",
            " 6   BrandID        91126 non-null  float64\n",
            " 7   USDPrice       90559 non-null  float64\n",
            " 8   UserID         90559 non-null  float64\n",
            " 9   Gender         47743 non-null  object \n",
            " 10  Color          88251 non-null  object \n",
            " 11  Metal          90449 non-null  object \n",
            " 12  Gem            61853 non-null  object \n",
            "dtypes: float64(6), int64(1), object(6)\n",
            "memory usage: 9.5+ MB\n"
          ]
        }
      ],
      "source": [
        "df.info()"
      ]
    },
    {
      "cell_type": "code",
      "execution_count": null,
      "metadata": {
        "id": "1jw5-tfDovRn",
        "outputId": "80b97c06-2157-4082-c211-c0c2807b6627"
      },
      "outputs": [
        {
          "data": {
            "text/html": [
              "<div>\n",
              "<style scoped>\n",
              "    .dataframe tbody tr th:only-of-type {\n",
              "        vertical-align: middle;\n",
              "    }\n",
              "\n",
              "    .dataframe tbody tr th {\n",
              "        vertical-align: top;\n",
              "    }\n",
              "\n",
              "    .dataframe thead th {\n",
              "        text-align: right;\n",
              "    }\n",
              "</style>\n",
              "<table border=\"1\" class=\"dataframe\">\n",
              "  <thead>\n",
              "    <tr style=\"text-align: right;\">\n",
              "      <th></th>\n",
              "      <th>OrderID</th>\n",
              "      <th>ProductID</th>\n",
              "      <th>Quantity</th>\n",
              "      <th>CategoryID</th>\n",
              "      <th>BrandID</th>\n",
              "      <th>USDPrice</th>\n",
              "      <th>UserID</th>\n",
              "    </tr>\n",
              "  </thead>\n",
              "  <tbody>\n",
              "    <tr>\n",
              "      <th>count</th>\n",
              "      <td>9.591100e+04</td>\n",
              "      <td>9.591100e+04</td>\n",
              "      <td>95911.0</td>\n",
              "      <td>9.055900e+04</td>\n",
              "      <td>9.112600e+04</td>\n",
              "      <td>90559.000000</td>\n",
              "      <td>9.055900e+04</td>\n",
              "    </tr>\n",
              "    <tr>\n",
              "      <th>mean</th>\n",
              "      <td>2.485185e+18</td>\n",
              "      <td>1.815969e+18</td>\n",
              "      <td>1.0</td>\n",
              "      <td>1.805948e+18</td>\n",
              "      <td>8.890964e+16</td>\n",
              "      <td>362.215217</td>\n",
              "      <td>1.512648e+18</td>\n",
              "    </tr>\n",
              "    <tr>\n",
              "      <th>std</th>\n",
              "      <td>1.934825e+17</td>\n",
              "      <td>2.136777e+17</td>\n",
              "      <td>0.0</td>\n",
              "      <td>2.083936e+16</td>\n",
              "      <td>3.559643e+17</td>\n",
              "      <td>444.155706</td>\n",
              "      <td>2.374813e+16</td>\n",
              "    </tr>\n",
              "    <tr>\n",
              "      <th>min</th>\n",
              "      <td>1.924720e+18</td>\n",
              "      <td>1.313550e+18</td>\n",
              "      <td>1.0</td>\n",
              "      <td>1.313680e+18</td>\n",
              "      <td>0.000000e+00</td>\n",
              "      <td>0.990000</td>\n",
              "      <td>1.313550e+18</td>\n",
              "    </tr>\n",
              "    <tr>\n",
              "      <th>25%</th>\n",
              "      <td>2.379725e+18</td>\n",
              "      <td>1.515970e+18</td>\n",
              "      <td>1.0</td>\n",
              "      <td>1.806830e+18</td>\n",
              "      <td>0.000000e+00</td>\n",
              "      <td>145.620000</td>\n",
              "      <td>1.515920e+18</td>\n",
              "    </tr>\n",
              "    <tr>\n",
              "      <th>50%</th>\n",
              "      <td>2.524280e+18</td>\n",
              "      <td>1.956660e+18</td>\n",
              "      <td>1.0</td>\n",
              "      <td>1.806830e+18</td>\n",
              "      <td>1.000000e+00</td>\n",
              "      <td>258.770000</td>\n",
              "      <td>1.515920e+18</td>\n",
              "    </tr>\n",
              "    <tr>\n",
              "      <th>75%</th>\n",
              "      <td>2.644350e+18</td>\n",
              "      <td>1.956660e+18</td>\n",
              "      <td>1.0</td>\n",
              "      <td>1.806830e+18</td>\n",
              "      <td>1.000000e+00</td>\n",
              "      <td>431.370000</td>\n",
              "      <td>1.515920e+18</td>\n",
              "    </tr>\n",
              "    <tr>\n",
              "      <th>max</th>\n",
              "      <td>2.719020e+18</td>\n",
              "      <td>2.541960e+18</td>\n",
              "      <td>1.0</td>\n",
              "      <td>1.806830e+18</td>\n",
              "      <td>1.550610e+18</td>\n",
              "      <td>34448.600000</td>\n",
              "      <td>1.554300e+18</td>\n",
              "    </tr>\n",
              "  </tbody>\n",
              "</table>\n",
              "</div>"
            ],
            "text/plain": [
              "            OrderID     ProductID  Quantity    CategoryID       BrandID  \\\n",
              "count  9.591100e+04  9.591100e+04   95911.0  9.055900e+04  9.112600e+04   \n",
              "mean   2.485185e+18  1.815969e+18       1.0  1.805948e+18  8.890964e+16   \n",
              "std    1.934825e+17  2.136777e+17       0.0  2.083936e+16  3.559643e+17   \n",
              "min    1.924720e+18  1.313550e+18       1.0  1.313680e+18  0.000000e+00   \n",
              "25%    2.379725e+18  1.515970e+18       1.0  1.806830e+18  0.000000e+00   \n",
              "50%    2.524280e+18  1.956660e+18       1.0  1.806830e+18  1.000000e+00   \n",
              "75%    2.644350e+18  1.956660e+18       1.0  1.806830e+18  1.000000e+00   \n",
              "max    2.719020e+18  2.541960e+18       1.0  1.806830e+18  1.550610e+18   \n",
              "\n",
              "           USDPrice        UserID  \n",
              "count  90559.000000  9.055900e+04  \n",
              "mean     362.215217  1.512648e+18  \n",
              "std      444.155706  2.374813e+16  \n",
              "min        0.990000  1.313550e+18  \n",
              "25%      145.620000  1.515920e+18  \n",
              "50%      258.770000  1.515920e+18  \n",
              "75%      431.370000  1.515920e+18  \n",
              "max    34448.600000  1.554300e+18  "
            ]
          },
          "execution_count": 33,
          "metadata": {},
          "output_type": "execute_result"
        }
      ],
      "source": [
        "df.describe()"
      ]
    },
    {
      "cell_type": "code",
      "execution_count": null,
      "metadata": {
        "id": "CitA4R4JovRo",
        "outputId": "4998a9fd-90f2-48c1-c773-e44038729838"
      },
      "outputs": [
        {
          "data": {
            "text/plain": [
              "DateTime             0\n",
              "OrderID              0\n",
              "ProductID            0\n",
              "Quantity             0\n",
              "CategoryID        5352\n",
              "CategoryAlias     9933\n",
              "BrandID           4785\n",
              "USDPrice          5352\n",
              "UserID            5352\n",
              "Gender           48168\n",
              "Color             7660\n",
              "Metal             5462\n",
              "Gem              34058\n",
              "dtype: int64"
            ]
          },
          "execution_count": 34,
          "metadata": {},
          "output_type": "execute_result"
        }
      ],
      "source": [
        "# identify missing or null values in a DataFrame\n",
        "df.isna().sum()"
      ]
    },
    {
      "cell_type": "code",
      "execution_count": null,
      "metadata": {
        "id": "9unUQ1_eovRo",
        "outputId": "9d862f1b-666c-49ac-a0d9-13e19cdc9e4f"
      },
      "outputs": [
        {
          "data": {
            "text/plain": [
              "Text(0.5, 1.0, 'Missing null values')"
            ]
          },
          "execution_count": 35,
          "metadata": {},
          "output_type": "execute_result"
        },
        {
          "data": {
            "image/png": "[encoded data removed]",
            "text/plain": [
              "<Figure size 2000x600 with 1 Axes>"
            ]
          },
          "metadata": {},
          "output_type": "display_data"
        }
      ],
      "source": [
        "import matplotlib\n",
        "matplotlib.rcParams[\"figure.figsize\"] = (20,6)\n",
        "sns.heatmap(df.isna(),yticklabels = False, cbar = False, cmap = \"magma\")\n",
        "plt.title(\"Missing null values\")"
      ]
    },
    {
      "cell_type": "code",
      "execution_count": null,
      "metadata": {
        "id": "jAcc5Ck8ovRp",
        "outputId": "89d9d703-8314-46ac-c2ca-7d9f801fe547"
      },
      "outputs": [
        {
          "data": {
            "text/plain": [
              "Gender           0.502216\n",
              "Gem              0.355100\n",
              "CategoryAlias    0.103565\n",
              "Color            0.079866\n",
              "Metal            0.056949\n",
              "CategoryID       0.055802\n",
              "USDPrice         0.055802\n",
              "UserID           0.055802\n",
              "BrandID          0.049890\n",
              "DateTime         0.000000\n",
              "OrderID          0.000000\n",
              "ProductID        0.000000\n",
              "Quantity         0.000000\n",
              "dtype: float64"
            ]
          },
          "execution_count": 36,
          "metadata": {},
          "output_type": "execute_result"
        }
      ],
      "source": [
        "MissingPercentage = df.isna().sum().sort_values(ascending = False)/len(df)\n",
        "MissingPercentage"
      ]
    },
    {
      "cell_type": "code",
      "execution_count": null,
      "metadata": {
        "id": "wBZfSEx8ovRq",
        "outputId": "5de57314-7536-47bb-fcfc-e98e4a23a5cc"
      },
      "outputs": [
        {
          "data": {
            "text/plain": [
              "Text(0.5, 1.0, 'Missig percentage of null values')"
            ]
          },
          "execution_count": 37,
          "metadata": {},
          "output_type": "execute_result"
        },
        {
          "data": {
            "image/png": "[encoded data removed]",
            "text/plain": [
              "<Figure size 2000x600 with 1 Axes>"
            ]
          },
          "metadata": {},
          "output_type": "display_data"
        }
      ],
      "source": [
        "MissingPercentage = MissingPercentage[MissingPercentage != 0]\n",
        "matplotlib.rcParams['figure.figsize'] = (20,6)\n",
        "MissingPercentage.plot(kind = 'barh')\n",
        "plt.title(\"Missig percentage of null values\")\n"
      ]
    },
    {
      "cell_type": "markdown",
      "metadata": {
        "id": "Q1UlLZdwovRq"
      },
      "source": [
        "We observed that the columns \"Gender\" and \"Gem\" have a significant number of missing values. Therefore, we will exclude these columns from our analysis to maintain the integrity and robustness of our results."
      ]
    },
    {
      "cell_type": "code",
      "execution_count": null,
      "metadata": {
        "id": "1yWTgUW0ovRr"
      },
      "outputs": [],
      "source": [
        "df.drop(columns = [\"Quantity\", \"CategoryID\", \"Gender\",\"BrandID\"], inplace=True)"
      ]
    },
    {
      "cell_type": "code",
      "execution_count": null,
      "metadata": {
        "id": "HlVXsmHNovRr",
        "outputId": "427395cc-8466-46ac-d916-dea9d883b917"
      },
      "outputs": [
        {
          "data": {
            "text/plain": [
              "array(['jewelry.earring', 'jewelry.ring', 'jewelry.pendant', nan,\n",
              "       'jewelry.bracelet', 'jewelry.necklace', 'jewelry.brooch',\n",
              "       'electronics.clocks', 'jewelry.stud', 'jewelry.souvenir', '230.12',\n",
              "       '202.36', '1098.03', '321.78', '1128.62', '81.27', '34.25',\n",
              "       '582.16', '227.37', '234.22', '150.55', '131.82', '2123.15',\n",
              "       '109.45', '49.22', '472.47', '205.38', '2746.44', '51.08',\n",
              "       '231.12', '76.97', '3054.73', '184.9', '380.1', '357.49', '15.47',\n",
              "       '135.33', '719.75', '93.01', '177.95', '102.1', '595.75', '469.56',\n",
              "       '427.07', '53.62', '77.53', '1469.18', '355.27', '184.89',\n",
              "       '154.66', '300.58', '83.73', '271.19', '3294.21', '278.04',\n",
              "       '3626.26', '126.03', '283.52', '114.38', '89.04', '8.22', '124.88',\n",
              "       '89.73', '171.23', '136.93', '19.04', '158.77', '187.1', '151.92',\n",
              "       '1845.89', '87.23', '248.58', '596.48', '208.88', '193.11',\n",
              "       '169.84', '1447.68', '45.07', '136.85', '282.05', '61.51',\n",
              "       '210.21', '137.12', '147.81', '419.45', '825.27', '300.16',\n",
              "       '541.78', '308.74', '766.85', '410.82', '101.23', '2.88',\n",
              "       '1356.16', '13.42', '35.21', '134.79', '626.58', '13.7', '108.53',\n",
              "       '119.01', '7.4', '4.79', '153.97', '482.47', '427.36', '289.18',\n",
              "       '25.48', '1858.49', '21.7', '11.77', '198.89', '17.51', '574.66',\n",
              "       '1319.93', '393.05', '358.22', '2282.19', '114.93', '371.23',\n",
              "       '63.56', '88.77', '133.7', '117.81', '166.03', '130.41', '195.75',\n",
              "       '104.79', '228.59', '1686.93', '65.89', '242.19', '252.47',\n",
              "       '210.41', '363.42', '149.04', '157.95', '176.3', '160.96', '316.3',\n",
              "       '258.77', '268.36', '838.9', '250.96', '832.01', '312.33',\n",
              "       '318.71', '323.6', '205.34', '608.22', '343.84', '598.22',\n",
              "       '508.08', '245.67', '338.36', '75.21', '573.81', '691.51',\n",
              "       '476.68', '247.68', '286.71', '863.67', '236.58', '644.66',\n",
              "       '40.82', '1376.99', '1.23', '621.23', '3454.79', '65.62', '59.73',\n",
              "       '571.3', '70.96', '271.26', '958.84', '527.26', '271.16', '284.66',\n",
              "       '261.64', '493.01', '35.48', '446.16', '526.41', '2517.08',\n",
              "       '331.51', '312.88', '148.63', '451.21', '369.82', '537.4',\n",
              "       '231.51', '316.34', '451.1', '283.49', '787.67', '131.92',\n",
              "       '495.48', '5.48', '186.03', '484.49', '331.23', '133.85', '323.7',\n",
              "       '2635.07', '297.22', '0', '259.58', '108.33', '4876.49', '308.08',\n",
              "       '190.27', '916.44', '132.53', '1829.37', '2208.9', '75.76',\n",
              "       '278.01', '662.3', '253.77'], dtype=object)"
            ]
          },
          "execution_count": 39,
          "metadata": {},
          "output_type": "execute_result"
        }
      ],
      "source": [
        "df['CategoryAlias'].unique()"
      ]
    },
    {
      "cell_type": "code",
      "execution_count": null,
      "metadata": {
        "id": "jxkcHkSeovRr"
      },
      "outputs": [],
      "source": [
        "df[\"CategoryAlias\"] = df[\"CategoryAlias\"].str.split('.').str[1]"
      ]
    },
    {
      "cell_type": "code",
      "execution_count": null,
      "metadata": {
        "id": "dADIKKRpovRs",
        "outputId": "012fd329-01d1-40f8-b4ff-295fe6487c2f"
      },
      "outputs": [
        {
          "data": {
            "text/plain": [
              "<bound method Series.unique of 0        earring\n",
              "1           ring\n",
              "2           ring\n",
              "3           ring\n",
              "4           ring\n",
              "          ...   \n",
              "95906        NaN\n",
              "95907        NaN\n",
              "95908        NaN\n",
              "95909        NaN\n",
              "95910        NaN\n",
              "Name: CategoryAlias, Length: 95911, dtype: object>"
            ]
          },
          "execution_count": 41,
          "metadata": {},
          "output_type": "execute_result"
        }
      ],
      "source": [
        "df[\"CategoryAlias\"].unique"
      ]
    },
    {
      "cell_type": "markdown",
      "metadata": {
        "id": "CpmFfCRmovRs"
      },
      "source": [
        "\"CategoryAlias\" column contains a significant number of irrelevant data entries. To maintain the accuracy and reliability of our analysis, it is necessary to remove these irrelevant data points from our dataset."
      ]
    },
    {
      "cell_type": "code",
      "execution_count": null,
      "metadata": {
        "id": "ijEcm2LXovRs",
        "outputId": "5e8f6e01-4ca9-4c91-f407-bc0786937215"
      },
      "outputs": [
        {
          "data": {
            "text/plain": [
              "CategoryAlias\n",
              "earring     29052\n",
              "ring        28300\n",
              "pendant     13088\n",
              "bracelet     6188\n",
              "necklace     2361\n",
              "brooch       1288\n",
              "souvenir      170\n",
              "stud           12\n",
              "Name: count, dtype: int64"
            ]
          },
          "execution_count": 42,
          "metadata": {},
          "output_type": "execute_result"
        }
      ],
      "source": [
        "jewelry_list = [\"earring\", \"ring\", \"pendant\", \"bracelet\", \"necklace\", \"brooch\", \"stud\",\"souvenir\" ]\n",
        "\n",
        "jewelry = df[df[\"CategoryAlias\"].isin(jewelry_list)]\n",
        "\n",
        "clean_jewelry = jewelry[\"CategoryAlias\"].value_counts()\n",
        "\n",
        "clean_jewelry"
      ]
    },
    {
      "cell_type": "code",
      "execution_count": null,
      "metadata": {
        "id": "JyQDfR2aovRs",
        "outputId": "110cd288-ac08-49d3-88af-4af539b2328b"
      },
      "outputs": [
        {
          "data": {
            "image/png": "[encoded data removed]",
            "text/plain": [
              "<Figure size 1000x2000 with 1 Axes>"
            ]
          },
          "metadata": {},
          "output_type": "display_data"
        }
      ],
      "source": [
        "# visualizing the distribution of categories in the \"clean_jewelry\"\n",
        "plt.figure(figsize=(10, 20))\n",
        "explode = (0,0,0,0,0.25,0.5,0.75,1)\n",
        "plt.pie(clean_jewelry, autopct='%1.1f%%',explode=explode)\n",
        "\n",
        "plt.title('Category Distribution')\n",
        "plt.legend(labels=clean_jewelry.index, loc='upper right')\n",
        "plt.show()"
      ]
    },
    {
      "cell_type": "code",
      "execution_count": null,
      "metadata": {
        "id": "Q8pFwp0vovRt",
        "outputId": "d38e76f8-9acf-453e-acc0-f5c5c2b00183"
      },
      "outputs": [
        {
          "data": {
            "text/plain": [
              "<Axes: xlabel='CategoryAlias'>"
            ]
          },
          "execution_count": 44,
          "metadata": {},
          "output_type": "execute_result"
        },
        {
          "data": {
            "image/png": "[encoded data removed]",
            "text/plain": [
              "<Figure size 2000x600 with 1 Axes>"
            ]
          },
          "metadata": {},
          "output_type": "display_data"
        }
      ],
      "source": [
        "clean_jewelry.plot(kind='bar')"
      ]
    },
    {
      "cell_type": "markdown",
      "metadata": {
        "id": "b0kamaMWovRu"
      },
      "source": [
        "Identify data in 'Color' and 'Metal' columns."
      ]
    },
    {
      "cell_type": "code",
      "execution_count": null,
      "metadata": {
        "id": "rL3-T_nMovRu",
        "outputId": "5c236ebc-51b5-40e4-e5b6-d88685e116fb"
      },
      "outputs": [
        {
          "data": {
            "text/plain": [
              "0        white\n",
              "1        white\n",
              "2        white\n",
              "3        white\n",
              "4        white\n",
              "         ...  \n",
              "95906    other\n",
              "95907    other\n",
              "95908    other\n",
              "95909    other\n",
              "95910    other\n",
              "Name: Color, Length: 95911, dtype: object"
            ]
          },
          "execution_count": 45,
          "metadata": {},
          "output_type": "execute_result"
        }
      ],
      "source": [
        "Color = df[\"Color\"].replace(\"unknown-color\", \"other\")\n",
        "Color.fillna(\"other\", inplace = True)\n",
        "Color\n"
      ]
    },
    {
      "cell_type": "code",
      "execution_count": null,
      "metadata": {
        "id": "ekXAXqVmovRv",
        "outputId": "6c0c4446-521d-4318-9af5-b375a938837e"
      },
      "outputs": [
        {
          "data": {
            "text/plain": [
              "Color\n",
              "red              69511\n",
              "white            15286\n",
              "yellow            3388\n",
              "unknown-color       64\n",
              "black                2\n",
              "Name: count, dtype: int64"
            ]
          },
          "execution_count": 46,
          "metadata": {},
          "output_type": "execute_result"
        }
      ],
      "source": [
        "Color = df[\"Color\"].value_counts()\n",
        "Color"
      ]
    },
    {
      "cell_type": "code",
      "execution_count": null,
      "metadata": {
        "id": "Jxw8dteAovRv",
        "outputId": "28b0e9d3-fff6-47b1-81c2-37c835736a9b"
      },
      "outputs": [
        {
          "data": {
            "text/plain": [
              "Metal\n",
              "gold        89082\n",
              "silver       1365\n",
              "platinum        2\n",
              "Name: count, dtype: int64"
            ]
          },
          "execution_count": 47,
          "metadata": {},
          "output_type": "execute_result"
        }
      ],
      "source": [
        "Metal = df[\"Metal\"].value_counts()\n",
        "Metal"
      ]
    },
    {
      "cell_type": "markdown",
      "metadata": {
        "id": "bDgycLZgovRw"
      },
      "source": [
        "Visual representation of the distribution of \"USDPrice\" column, remove outlier and create price_range."
      ]
    },
    {
      "cell_type": "code",
      "execution_count": null,
      "metadata": {
        "id": "G62CsD7DovRw",
        "outputId": "9548da88-7488-4dca-a8cc-8ff33ca3462f"
      },
      "outputs": [
        {
          "data": {
            "text/plain": [
              "<Axes: >"
            ]
          },
          "execution_count": 48,
          "metadata": {},
          "output_type": "execute_result"
        },
        {
          "data": {
            "image/png": "[encoded data removed]",
            "text/plain": [
              "<Figure size 2000x600 with 1 Axes>"
            ]
          },
          "metadata": {},
          "output_type": "display_data"
        }
      ],
      "source": [
        "sns.boxplot(df[\"USDPrice\"])\n",
        "\n",
        "#we meet"
      ]
    },
    {
      "cell_type": "code",
      "execution_count": null,
      "metadata": {
        "id": "ds_KH8X0ovRw",
        "outputId": "a63677f6-e1f5-4935-c2a1-96838dd5c71e"
      },
      "outputs": [
        {
          "name": "stderr",
          "output_type": "stream",
          "text": [
            "/var/folders/rw/jxv74n4s2574klx239qd_nv80000gn/T/ipykernel_43906/2756914369.py:1: UserWarning: \n",
            "\n",
            "`distplot` is a deprecated function and will be removed in seaborn v0.14.0.\n",
            "\n",
            "Please adapt your code to use either `displot` (a figure-level function with\n",
            "similar flexibility) or `histplot` (an axes-level function for histograms).\n",
            "\n",
            "For a guide to updating your code to use the new functions, please see\n",
            "https://gist.github.com/mwaskom/de44147ed2974457ad6372750bbe5751\n",
            "\n",
            "  sns.distplot(df['USDPrice'], fit=norm);\n"
          ]
        },
        {
          "data": {
            "image/png": "[encoded data removed]",
            "text/plain": [
              "<Figure size 2000x600 with 1 Axes>"
            ]
          },
          "metadata": {},
          "output_type": "display_data"
        },
        {
          "data": {
            "text/plain": [
              "<Figure size 2000x600 with 0 Axes>"
            ]
          },
          "metadata": {},
          "output_type": "display_data"
        }
      ],
      "source": [
        "sns.distplot(df['USDPrice'], fit=norm);\n",
        "fig = plt.figure()"
      ]
    },
    {
      "cell_type": "code",
      "execution_count": null,
      "metadata": {
        "id": "MVae-5rsovRx"
      },
      "outputs": [],
      "source": [
        "import scipy.stats as stats\n",
        "\n",
        "q1 = df[\"USDPrice\"].quantile(0.25)\n",
        "q3 = df[\"USDPrice\"].quantile(0.75)\n",
        "\n",
        "iqr = q3 - q1\n",
        "lower_bound = q1 - 1.5 * iqr\n",
        "upper_bound = q3 + 1.5 * iqr\n",
        "\n",
        "df = df[(df['USDPrice'] > lower_bound) & (df['USDPrice'] < upper_bound)]"
      ]
    },
    {
      "cell_type": "code",
      "execution_count": null,
      "metadata": {
        "id": "NTuS304BovRx",
        "outputId": "27d127c0-a3dd-4fd0-a555-f89a8abc9cbd"
      },
      "outputs": [
        {
          "ename": "KeyError",
          "evalue": "0",
          "output_type": "error",
          "traceback": [
            "\u001b[0;31m---------------------------------------------------------------------------\u001b[0m",
            "\u001b[0;31mKeyError\u001b[0m                                  Traceback (most recent call last)",
            "File \u001b[0;32m~/anaconda3/lib/python3.11/site-packages/pandas/core/indexes/base.py:3653\u001b[0m, in \u001b[0;36mIndex.get_loc\u001b[0;34m(self, key)\u001b[0m\n\u001b[1;32m   3652\u001b[0m \u001b[38;5;28;01mtry\u001b[39;00m:\n\u001b[0;32m-> 3653\u001b[0m     \u001b[38;5;28;01mreturn\u001b[39;00m \u001b[38;5;28mself\u001b[39m\u001b[38;5;241m.\u001b[39m_engine\u001b[38;5;241m.\u001b[39mget_loc(casted_key)\n\u001b[1;32m   3654\u001b[0m \u001b[38;5;28;01mexcept\u001b[39;00m \u001b[38;5;167;01mKeyError\u001b[39;00m \u001b[38;5;28;01mas\u001b[39;00m err:\n",
            "File \u001b[0;32m~/anaconda3/lib/python3.11/site-packages/pandas/_libs/index.pyx:147\u001b[0m, in \u001b[0;36mpandas._libs.index.IndexEngine.get_loc\u001b[0;34m()\u001b[0m\n",
            "File \u001b[0;32m~/anaconda3/lib/python3.11/site-packages/pandas/_libs/index.pyx:176\u001b[0m, in \u001b[0;36mpandas._libs.index.IndexEngine.get_loc\u001b[0;34m()\u001b[0m\n",
            "File \u001b[0;32mpandas/_libs/hashtable_class_helper.pxi:2606\u001b[0m, in \u001b[0;36mpandas._libs.hashtable.Int64HashTable.get_item\u001b[0;34m()\u001b[0m\n",
            "File \u001b[0;32mpandas/_libs/hashtable_class_helper.pxi:2630\u001b[0m, in \u001b[0;36mpandas._libs.hashtable.Int64HashTable.get_item\u001b[0;34m()\u001b[0m\n",
            "\u001b[0;31mKeyError\u001b[0m: 0",
            "\nThe above exception was the direct cause of the following exception:\n",
            "\u001b[0;31mKeyError\u001b[0m                                  Traceback (most recent call last)",
            "Cell \u001b[0;32mIn[51], line 1\u001b[0m\n\u001b[0;32m----> 1\u001b[0m sns\u001b[38;5;241m.\u001b[39mboxplot(df[\u001b[38;5;124m\"\u001b[39m\u001b[38;5;124mUSDPrice\u001b[39m\u001b[38;5;124m\"\u001b[39m])\n",
            "File \u001b[0;32m~/anaconda3/lib/python3.11/site-packages/seaborn/categorical.py:2231\u001b[0m, in \u001b[0;36mboxplot\u001b[0;34m(data, x, y, hue, order, hue_order, orient, color, palette, saturation, width, dodge, fliersize, linewidth, whis, ax, **kwargs)\u001b[0m\n\u001b[1;32m   2224\u001b[0m \u001b[38;5;28;01mdef\u001b[39;00m \u001b[38;5;21mboxplot\u001b[39m(\n\u001b[1;32m   2225\u001b[0m     data\u001b[38;5;241m=\u001b[39m\u001b[38;5;28;01mNone\u001b[39;00m, \u001b[38;5;241m*\u001b[39m, x\u001b[38;5;241m=\u001b[39m\u001b[38;5;28;01mNone\u001b[39;00m, y\u001b[38;5;241m=\u001b[39m\u001b[38;5;28;01mNone\u001b[39;00m, hue\u001b[38;5;241m=\u001b[39m\u001b[38;5;28;01mNone\u001b[39;00m, order\u001b[38;5;241m=\u001b[39m\u001b[38;5;28;01mNone\u001b[39;00m, hue_order\u001b[38;5;241m=\u001b[39m\u001b[38;5;28;01mNone\u001b[39;00m,\n\u001b[1;32m   2226\u001b[0m     orient\u001b[38;5;241m=\u001b[39m\u001b[38;5;28;01mNone\u001b[39;00m, color\u001b[38;5;241m=\u001b[39m\u001b[38;5;28;01mNone\u001b[39;00m, palette\u001b[38;5;241m=\u001b[39m\u001b[38;5;28;01mNone\u001b[39;00m, saturation\u001b[38;5;241m=\u001b[39m\u001b[38;5;241m.75\u001b[39m, width\u001b[38;5;241m=\u001b[39m\u001b[38;5;241m.8\u001b[39m,\n\u001b[1;32m   2227\u001b[0m     dodge\u001b[38;5;241m=\u001b[39m\u001b[38;5;28;01mTrue\u001b[39;00m, fliersize\u001b[38;5;241m=\u001b[39m\u001b[38;5;241m5\u001b[39m, linewidth\u001b[38;5;241m=\u001b[39m\u001b[38;5;28;01mNone\u001b[39;00m, whis\u001b[38;5;241m=\u001b[39m\u001b[38;5;241m1.5\u001b[39m, ax\u001b[38;5;241m=\u001b[39m\u001b[38;5;28;01mNone\u001b[39;00m,\n\u001b[1;32m   2228\u001b[0m     \u001b[38;5;241m*\u001b[39m\u001b[38;5;241m*\u001b[39mkwargs\n\u001b[1;32m   2229\u001b[0m ):\n\u001b[0;32m-> 2231\u001b[0m     plotter \u001b[38;5;241m=\u001b[39m _BoxPlotter(x, y, hue, data, order, hue_order,\n\u001b[1;32m   2232\u001b[0m                           orient, color, palette, saturation,\n\u001b[1;32m   2233\u001b[0m                           width, dodge, fliersize, linewidth)\n\u001b[1;32m   2235\u001b[0m     \u001b[38;5;28;01mif\u001b[39;00m ax \u001b[38;5;129;01mis\u001b[39;00m \u001b[38;5;28;01mNone\u001b[39;00m:\n\u001b[1;32m   2236\u001b[0m         ax \u001b[38;5;241m=\u001b[39m plt\u001b[38;5;241m.\u001b[39mgca()\n",
            "File \u001b[0;32m~/anaconda3/lib/python3.11/site-packages/seaborn/categorical.py:785\u001b[0m, in \u001b[0;36m_BoxPlotter.__init__\u001b[0;34m(self, x, y, hue, data, order, hue_order, orient, color, palette, saturation, width, dodge, fliersize, linewidth)\u001b[0m\n\u001b[1;32m    781\u001b[0m \u001b[38;5;28;01mdef\u001b[39;00m \u001b[38;5;21m__init__\u001b[39m(\u001b[38;5;28mself\u001b[39m, x, y, hue, data, order, hue_order,\n\u001b[1;32m    782\u001b[0m              orient, color, palette, saturation,\n\u001b[1;32m    783\u001b[0m              width, dodge, fliersize, linewidth):\n\u001b[0;32m--> 785\u001b[0m     \u001b[38;5;28mself\u001b[39m\u001b[38;5;241m.\u001b[39mestablish_variables(x, y, hue, data, orient, order, hue_order)\n\u001b[1;32m    786\u001b[0m     \u001b[38;5;28mself\u001b[39m\u001b[38;5;241m.\u001b[39mestablish_colors(color, palette, saturation)\n\u001b[1;32m    788\u001b[0m     \u001b[38;5;28mself\u001b[39m\u001b[38;5;241m.\u001b[39mdodge \u001b[38;5;241m=\u001b[39m dodge\n",
            "File \u001b[0;32m~/anaconda3/lib/python3.11/site-packages/seaborn/categorical.py:486\u001b[0m, in \u001b[0;36m_CategoricalPlotter.establish_variables\u001b[0;34m(self, x, y, hue, data, orient, order, hue_order, units)\u001b[0m\n\u001b[1;32m    484\u001b[0m \u001b[38;5;28;01mif\u001b[39;00m \u001b[38;5;28mhasattr\u001b[39m(data, \u001b[38;5;124m\"\u001b[39m\u001b[38;5;124mshape\u001b[39m\u001b[38;5;124m\"\u001b[39m):\n\u001b[1;32m    485\u001b[0m     \u001b[38;5;28;01mif\u001b[39;00m \u001b[38;5;28mlen\u001b[39m(data\u001b[38;5;241m.\u001b[39mshape) \u001b[38;5;241m==\u001b[39m \u001b[38;5;241m1\u001b[39m:\n\u001b[0;32m--> 486\u001b[0m         \u001b[38;5;28;01mif\u001b[39;00m np\u001b[38;5;241m.\u001b[39misscalar(data[\u001b[38;5;241m0\u001b[39m]):\n\u001b[1;32m    487\u001b[0m             plot_data \u001b[38;5;241m=\u001b[39m [data]\n\u001b[1;32m    488\u001b[0m         \u001b[38;5;28;01melse\u001b[39;00m:\n",
            "File \u001b[0;32m~/anaconda3/lib/python3.11/site-packages/pandas/core/series.py:1007\u001b[0m, in \u001b[0;36mSeries.__getitem__\u001b[0;34m(self, key)\u001b[0m\n\u001b[1;32m   1004\u001b[0m     \u001b[38;5;28;01mreturn\u001b[39;00m \u001b[38;5;28mself\u001b[39m\u001b[38;5;241m.\u001b[39m_values[key]\n\u001b[1;32m   1006\u001b[0m \u001b[38;5;28;01melif\u001b[39;00m key_is_scalar:\n\u001b[0;32m-> 1007\u001b[0m     \u001b[38;5;28;01mreturn\u001b[39;00m \u001b[38;5;28mself\u001b[39m\u001b[38;5;241m.\u001b[39m_get_value(key)\n\u001b[1;32m   1009\u001b[0m \u001b[38;5;28;01mif\u001b[39;00m is_hashable(key):\n\u001b[1;32m   1010\u001b[0m     \u001b[38;5;66;03m# Otherwise index.get_value will raise InvalidIndexError\u001b[39;00m\n\u001b[1;32m   1011\u001b[0m     \u001b[38;5;28;01mtry\u001b[39;00m:\n\u001b[1;32m   1012\u001b[0m         \u001b[38;5;66;03m# For labels that don't resolve as scalars like tuples and frozensets\u001b[39;00m\n",
            "File \u001b[0;32m~/anaconda3/lib/python3.11/site-packages/pandas/core/series.py:1116\u001b[0m, in \u001b[0;36mSeries._get_value\u001b[0;34m(self, label, takeable)\u001b[0m\n\u001b[1;32m   1113\u001b[0m     \u001b[38;5;28;01mreturn\u001b[39;00m \u001b[38;5;28mself\u001b[39m\u001b[38;5;241m.\u001b[39m_values[label]\n\u001b[1;32m   1115\u001b[0m \u001b[38;5;66;03m# Similar to Index.get_value, but we do not fall back to positional\u001b[39;00m\n\u001b[0;32m-> 1116\u001b[0m loc \u001b[38;5;241m=\u001b[39m \u001b[38;5;28mself\u001b[39m\u001b[38;5;241m.\u001b[39mindex\u001b[38;5;241m.\u001b[39mget_loc(label)\n\u001b[1;32m   1118\u001b[0m \u001b[38;5;28;01mif\u001b[39;00m is_integer(loc):\n\u001b[1;32m   1119\u001b[0m     \u001b[38;5;28;01mreturn\u001b[39;00m \u001b[38;5;28mself\u001b[39m\u001b[38;5;241m.\u001b[39m_values[loc]\n",
            "File \u001b[0;32m~/anaconda3/lib/python3.11/site-packages/pandas/core/indexes/base.py:3655\u001b[0m, in \u001b[0;36mIndex.get_loc\u001b[0;34m(self, key)\u001b[0m\n\u001b[1;32m   3653\u001b[0m     \u001b[38;5;28;01mreturn\u001b[39;00m \u001b[38;5;28mself\u001b[39m\u001b[38;5;241m.\u001b[39m_engine\u001b[38;5;241m.\u001b[39mget_loc(casted_key)\n\u001b[1;32m   3654\u001b[0m \u001b[38;5;28;01mexcept\u001b[39;00m \u001b[38;5;167;01mKeyError\u001b[39;00m \u001b[38;5;28;01mas\u001b[39;00m err:\n\u001b[0;32m-> 3655\u001b[0m     \u001b[38;5;28;01mraise\u001b[39;00m \u001b[38;5;167;01mKeyError\u001b[39;00m(key) \u001b[38;5;28;01mfrom\u001b[39;00m \u001b[38;5;21;01merr\u001b[39;00m\n\u001b[1;32m   3656\u001b[0m \u001b[38;5;28;01mexcept\u001b[39;00m \u001b[38;5;167;01mTypeError\u001b[39;00m:\n\u001b[1;32m   3657\u001b[0m     \u001b[38;5;66;03m# If we have a listlike key, _check_indexing_error will raise\u001b[39;00m\n\u001b[1;32m   3658\u001b[0m     \u001b[38;5;66;03m#  InvalidIndexError. Otherwise we fall through and re-raise\u001b[39;00m\n\u001b[1;32m   3659\u001b[0m     \u001b[38;5;66;03m#  the TypeError.\u001b[39;00m\n\u001b[1;32m   3660\u001b[0m     \u001b[38;5;28mself\u001b[39m\u001b[38;5;241m.\u001b[39m_check_indexing_error(key)\n",
            "\u001b[0;31mKeyError\u001b[0m: 0"
          ]
        }
      ],
      "source": [
        "sns.boxplot(df[\"USDPrice\"])\n",
        "\n",
        "#we meet"
      ]
    },
    {
      "cell_type": "code",
      "execution_count": null,
      "metadata": {
        "id": "w52PA3RQovRx"
      },
      "outputs": [],
      "source": [
        "df['Price_range'] = pd.cut(df['USDPrice'], bins=[0, 100, 200, 300, 400, 500, 1000], labels=['under 100', '101-200', '201-300', '301-400', '401-500', '500-1000']).astype(object)\n",
        "Price_range_value = df['Price_range'].value_counts().sort_index()\n",
        "\n",
        "# Define the desired order of x-axis values\n",
        "x_order = ['under 100', '101-200', '201-300', '301-400', '401-500', '500-1000']\n",
        "\n",
        "Price_range_value = Price_range_value.loc[x_order]\n",
        "\n",
        "Price_range_value.plot.bar()"
      ]
    },
    {
      "cell_type": "code",
      "execution_count": null,
      "metadata": {
        "id": "iBQXMXc9ovRx"
      },
      "outputs": [],
      "source": [
        "Price_range_value.unique"
      ]
    },
    {
      "cell_type": "markdown",
      "metadata": {
        "id": "hhxYBs1xovRy"
      },
      "source": [
        "Extract the year, month, time and hour from the 'DateTime' column for further analysis."
      ]
    },
    {
      "cell_type": "code",
      "execution_count": null,
      "metadata": {
        "id": "Sq89vfD_ovRy"
      },
      "outputs": [],
      "source": [
        "df['DateTime']\n",
        "df['year'] = pd.DatetimeIndex(df['DateTime']).year\n",
        "year = df['year'].value_counts\n",
        "year"
      ]
    },
    {
      "cell_type": "code",
      "execution_count": null,
      "metadata": {
        "id": "BSZGKdwpovRy"
      },
      "outputs": [],
      "source": [
        "df['month'] = pd.DatetimeIndex(df['DateTime']).month\n",
        "month = df['month']\n",
        "#df['month'][:5]"
      ]
    },
    {
      "cell_type": "code",
      "execution_count": null,
      "metadata": {
        "id": "iqPA3-C3ovRy"
      },
      "outputs": [],
      "source": [
        "df['DateTime'] = pd.to_datetime(df['DateTime'])\n",
        "\n",
        "# Extract the time component from the 'DateTime' column\n",
        "df['Time'] = df['DateTime'].dt.time\n",
        "\n",
        "# Print the 'Time' column\n",
        "print(df['Time'])"
      ]
    },
    {
      "cell_type": "code",
      "execution_count": null,
      "metadata": {
        "id": "YkmXdxOSovRz"
      },
      "outputs": [],
      "source": [
        "df['DateTime'] = pd.to_datetime(df['DateTime'])\n",
        "df['Hour'] = df['DateTime'].dt.hour\n",
        "\n",
        "print(df['Hour'])"
      ]
    },
    {
      "cell_type": "code",
      "execution_count": null,
      "metadata": {
        "id": "VtJZuJRWovRz"
      },
      "outputs": [],
      "source": [
        "# show product purchase in each year and month.\n",
        "df.groupby(['year','month'])['CategoryAlias'].count().unstack('year')"
      ]
    },
    {
      "cell_type": "code",
      "execution_count": null,
      "metadata": {
        "id": "F-T4jQXjovRz"
      },
      "outputs": [],
      "source": [
        "df.groupby(['year','month'])['CategoryAlias'].count().unstack('year').plot(kind = \"bar\")"
      ]
    },
    {
      "cell_type": "code",
      "execution_count": null,
      "metadata": {
        "id": "jGTFObw0ovR0"
      },
      "outputs": [],
      "source": [
        "filtered_df = df[df['year'].between(2019, 2021)]\n",
        "grouped = filtered_df.groupby(['year', 'month'])['CategoryAlias'].count()\n",
        "unstacked = grouped.unstack('year')\n",
        "unstacked.plot(kind='line')\n",
        "\n",
        "plt.xlabel('Month')\n",
        "plt.ylabel('Purchase Count')\n",
        "plt.title('Purchase Count of CategoryAlias by Month (2018-2022)')\n",
        "plt.show()"
      ]
    },
    {
      "cell_type": "code",
      "execution_count": null,
      "metadata": {
        "id": "6tJOa6tdovR0"
      },
      "outputs": [],
      "source": [
        "# explain why the line goes down in December 2021, because data only vaild on 1st December 2021.\n",
        "december_2021_data = df[(df['year'] == 2021) & (df['month'] == 12)]\n",
        "\n",
        "if december_2021_data.empty:\n",
        "    print(\"No data available for December 2021.\")\n",
        "else:\n",
        "    print(\"Data for December 2021:\")\n",
        "    print(december_2021_data)"
      ]
    },
    {
      "cell_type": "code",
      "execution_count": null,
      "metadata": {
        "id": "5GCMKYRzovR0"
      },
      "outputs": [],
      "source": [
        "# extra visualization graph for all purchase products by month\n",
        "df_2018 = df[(df['year'] == 2018) & (df['CategoryAlias'].notnull())]\n",
        "salerecord_2018 = df_2018['CategoryAlias'].value_counts()\n",
        "salerecord_2018.plot.bar()\n",
        "plt.title('Count of Categories in 2018')\n",
        "plt.show()\n",
        "\n",
        "df_2019 = df[(df['year'] == 2019) & (df['CategoryAlias'].notnull())]\n",
        "salerecord_2019 = df_2019['CategoryAlias'].value_counts()\n",
        "salerecord_2019.plot.bar()\n",
        "plt.title('Count of Categories in 2019')\n",
        "plt.show()\n",
        "\n",
        "df_2020 = df[(df['year'] == 2020) & (df['CategoryAlias'].notnull())]\n",
        "salerecord_2020 = df_2020['CategoryAlias'].value_counts()\n",
        "salerecord_2020.plot.bar()\n",
        "plt.title('Count of Categories in 2020')\n",
        "plt.show()\n",
        "\n",
        "df_2021 = df[(df['year'] == 2021) & (df['CategoryAlias'].notnull())]\n",
        "salerecord_2021 = df_2021['CategoryAlias'].value_counts()\n",
        "salerecord_2021.plot.bar()\n",
        "plt.title('Count of Categories in 2021')\n",
        "plt.show()\n",
        "\n"
      ]
    },
    {
      "cell_type": "code",
      "execution_count": null,
      "metadata": {
        "id": "GNsJ4f2CovR0"
      },
      "outputs": [],
      "source": [
        "# visualization graph for sales by month\n",
        "sales_by_month_product = df.groupby([\"month\", \"CategoryAlias\"])[\"Price_range\"].count().unstack(fill_value=0)\n",
        "\n",
        "# 繪製圖表\n",
        "sales_by_month_product.plot(kind=\"bar\", figsize=(15, 10))\n",
        "plt.xlabel(\"Month\")\n",
        "plt.ylabel(\"Number of Sales\")\n",
        "plt.title(\"Sales by Month and Product Category\")\n",
        "plt.show()"
      ]
    },
    {
      "cell_type": "code",
      "execution_count": null,
      "metadata": {
        "id": "Rib4C6iaovR1"
      },
      "outputs": [],
      "source": [
        "# visualization graph for sales by year\n",
        "sales_by_month_product = df.groupby([\"year\", \"CategoryAlias\"])[\"Price_range\"].count().unstack(fill_value=0)\n",
        "\n",
        "# 繪製圖表\n",
        "sales_by_month_product.plot(kind=\"bar\", figsize=(15, 10))\n",
        "plt.xlabel(\"Month\")\n",
        "plt.ylabel(\"Number of Sales\")\n",
        "plt.title(\"Sales by Month and Product Category\")\n",
        "plt.show()"
      ]
    },
    {
      "cell_type": "code",
      "execution_count": null,
      "metadata": {
        "id": "qgoGaCDCovR1"
      },
      "outputs": [],
      "source": [
        "# visualization graph for sales by year.month\n",
        "df.groupby(['year','month', 'CategoryAlias'])['CategoryAlias'].count().unstack('CategoryAlias').plot(kind = \"bar\")"
      ]
    },
    {
      "cell_type": "code",
      "execution_count": null,
      "metadata": {
        "id": "W9saKwINovR1"
      },
      "outputs": [],
      "source": [
        "# visualization graph for price_range by year\n",
        "df.groupby(['CategoryAlias','year'])['Price_range'].count().unstack('CategoryAlias').plot(kind = \"bar\")"
      ]
    },
    {
      "cell_type": "markdown",
      "metadata": {
        "id": "G0OZ12MhovR1"
      },
      "source": [
        "Analyse the best selling item in the dataframe by color and metal."
      ]
    },
    {
      "cell_type": "code",
      "execution_count": null,
      "metadata": {
        "id": "9N_BKboaovR2"
      },
      "outputs": [],
      "source": [
        "grouped = df.groupby(['Color', 'Metal'])['OrderID'].sum()\n",
        "\n",
        "best_seller = grouped.idxmax()\n",
        "\n",
        "best_color, best_metal = best_seller\n",
        "\n",
        "print(\"The best-selling color is:\", best_color)\n",
        "print(\"The best-selling metal is:\", best_metal)"
      ]
    },
    {
      "cell_type": "code",
      "execution_count": null,
      "metadata": {
        "id": "45wAuWlGovR2"
      },
      "outputs": [],
      "source": [
        "grouped = df.groupby(['Color', 'Metal']).size()\n",
        "print(grouped)\n",
        "\n",
        "counts_df = grouped.reset_index(name='count')\n",
        "\n",
        "plt.bar(range(len(counts_df)), counts_df['count'])\n",
        "plt.xticks(range(len(counts_df)), counts_df['Color'] + ' - ' + counts_df['Metal'], rotation=90)\n",
        "\n",
        "plt.xlabel('Color - Metal')\n",
        "plt.ylabel('Count')\n",
        "plt.title('Count of Purchases by Color and Metal')\n",
        "plt.show()"
      ]
    },
    {
      "cell_type": "code",
      "execution_count": null,
      "metadata": {
        "id": "MX_9WCIDovR2"
      },
      "outputs": [],
      "source": [
        "# As red gold is the best seller, show the trend of buying habits by year.\n",
        "red_gold_df = df[(df['Color'] == 'red') & (df['Metal'] == 'gold')]\n",
        "\n",
        "\n",
        "year_counts = red_gold_df['year'].value_counts().sort_index()\n",
        "\n",
        "\n",
        "plt.bar(year_counts.index, year_counts.values)\n",
        "\n",
        "plt.xlabel('Year')\n",
        "plt.ylabel('Count')\n",
        "plt.title('Count of \"Red-Gold\" Purchases by Year')\n",
        "\n",
        "plt.show()"
      ]
    },
    {
      "cell_type": "code",
      "execution_count": null,
      "metadata": {
        "id": "7neSGjp_ovR2",
        "outputId": "c26c9e00-f87d-45e7-f5e4-f66164e032f3"
      },
      "outputs": [
        {
          "name": "stdout",
          "output_type": "stream",
          "text": [
            "The most frequently purchased item is red gold earring and it has been purchased 18 times.\n",
            "The price of this item is 858.52\n"
          ]
        }
      ],
      "source": [
        "# Find out the most frequently purchased item and the price of it\n",
        "grouped = df.groupby(['CategoryAlias', 'Color', 'Metal', 'OrderID']).size()\n",
        "counts_df = grouped.reset_index(name='count')\n",
        "most_bought_index = counts_df['count'].idxmax()\n",
        "\n",
        "most_bought_category = counts_df.loc[most_bought_index, 'CategoryAlias']\n",
        "most_bought_color = counts_df.loc[most_bought_index, 'Color']\n",
        "most_bought_metal = counts_df.loc[most_bought_index, 'Metal']\n",
        "\n",
        "most_bought_price = df[(df['CategoryAlias'] == most_bought_category) &\n",
        "                       (df['Color'] == most_bought_color) &\n",
        "                       (df['Metal'] == most_bought_metal)]['USDPrice'].iloc[0]\n",
        "\n",
        "most_bought_count = counts_df.loc[most_bought_index, 'count']\n",
        "\n",
        "print(\"The most frequently purchased item is\",\n",
        "      most_bought_color, most_bought_metal, most_bought_category,\n",
        "      \"and it has been purchased\", most_bought_count, \"times.\")\n",
        "print(\"The price of this item is\", most_bought_price)"
      ]
    },
    {
      "cell_type": "code",
      "execution_count": null,
      "metadata": {
        "id": "k6gpCd0TovR2"
      },
      "outputs": [],
      "source": [
        "# Visualizing the purchasing patterns of customers over time\n",
        "jewelry_df = df[df['CategoryAlias'].isin(clean_jewelry.index)]\n",
        "\n",
        "jewelry_df['Hour'] = jewelry_df['DateTime'].dt.hour\n",
        "\n",
        "pivot_table = pd.pivot_table(jewelry_df, values='OrderID', index='CategoryAlias', columns='Hour', aggfunc='count')\n",
        "\n",
        "plt.figure(figsize=(12, 8))\n",
        "sns.heatmap(pivot_table, cmap='YlGnBu')\n",
        "plt.title('Purchase Time Heatmap for Jewelry Products')\n",
        "plt.xlabel('Hour')\n",
        "plt.ylabel('CategoryAlias')\n",
        "plt.show()"
      ]
    },
    {
      "cell_type": "markdown",
      "metadata": {
        "id": "b1zalRcyovR2"
      },
      "source": [
        "## Conclusion\n",
        "\n",
        "Based on the analysis conducted, we have gained insights into the purchasing patterns of customers. It is noteworthy that the number of transactions was relatively low in 2019, possibly influenced by the impact of the COVID-19 pandemic, which affected customer buying behavior. However, there is a noticeable upward trend in the purchasing rate over time, indicating a positive trajectory.\n",
        "\n",
        "Further examination revealed that the months of March, August, and November stood out as periods with the highest number of purchases. This surge in sales can be attributed to special holidays such as Valentine's Day and Christmas when customers are more inclined to buy jewelry as gifts. Consequently, it is evident that the demand for jewelry experiences an upsurge during these holiday seasons.\n",
        "\n",
        "Additionally, it is worth noting that rose-gold products emerged as the top-selling category. Customers displayed a preference for jewelry within the price range of 100-300 USD. This information presents an opportunity for jewelry sellers to focus on producing more rose-gold items within this price bracket to cater to customer preferences and attract a larger customer base.\n",
        "\n",
        "Reviewing the graph, it becomes apparent that the number of sales has consistently increased year after year. This finding suggests a positive growth trend in the jewelry market. As a result, it is advisable for jewelry sellers to consider expanding their offerings of rose-gold products within the 100-300 USD price range to capitalize on this upward trend and effectively engage customers.\n",
        "\n",
        "By leveraging these insights, jewelry sellers can make informed decisions to optimize their product offerings and marketing strategies, thereby enhancing customer satisfaction and driving business growth."
      ]
    }
  ],
  "metadata": {
    "kernelspec": {
      "display_name": "Python 3",
      "language": "python",
      "name": "python3"
    },
    "language_info": {
      "codemirror_mode": {
        "name": "ipython",
        "version": 3
      },
      "file_extension": ".py",
      "mimetype": "text/x-python",
      "name": "python",
      "nbconvert_exporter": "python",
      "pygments_lexer": "ipython3",
      "version": "3.11.5"
    },
    "colab": {
      "provenance": []
    }
  },
  "nbformat": 4,
  "nbformat_minor": 0
}